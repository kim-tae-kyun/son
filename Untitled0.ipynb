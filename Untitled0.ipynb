{
  "nbformat": 4,
  "nbformat_minor": 0,
  "metadata": {
    "colab": {
      "name": "Untitled0.ipynb",
      "provenance": [],
      "authorship_tag": "ABX9TyPp5Y1IloBxCGBB/g51zO51",
      "include_colab_link": true
    },
    "kernelspec": {
      "name": "python3",
      "display_name": "Python 3"
    }
  },
  "cells": [
    {
      "cell_type": "markdown",
      "metadata": {
        "id": "view-in-github",
        "colab_type": "text"
      },
      "source": [
        "<a href=\"https://colab.research.google.com/github/kim-tae-kyun/son/blob/master/Untitled0.ipynb\" target=\"_parent\"><img src=\"https://colab.research.google.com/assets/colab-badge.svg\" alt=\"Open In Colab\"/></a>"
      ]
    },
    {
      "cell_type": "markdown",
      "metadata": {
        "id": "W1F-hhVKqjlh",
        "colab_type": "text"
      },
      "source": [
        "#1주차 과제\n",
        "1.언어분야\n",
        "제가 흥미있게 보는 것은 AI번역 서비스입니다. 대표적으로 네이버의 **파파고**입니다.웹사이트를 통번역을 해주기 때문에 언어 떄문에 힘들었던 해외제품 구매도 수월할 것입니다.\n",
        "[파파고](https://papago.naver.com/)\n",
        "\n",
        "2.음성분야\n",
        "사람이 음성으로 요구하면 다양한 서비스를 제공해주는 **카카오AI**입니다.  \n",
        "![kakao AI](https://img2.daumcdn.net/thumb/R658x0.q70/?fname=https://t1.daumcdn.net/news/201710/25/kedtv/20171025150709312wptb.jpg)\n",
        "\n",
        "3.이미지분야\n",
        "사진 속 얼굴을 딥러닝으로 분석해 같은 사람을 연결해 주는 **페이스북 딥페이스**\n",
        "[딥페이스](http://www.dailycnc.com/news/articleView.html?idxno=68888)\n",
        "\n",
        "4.자율주행\n",
        "테슬라는 오토파일럿은 자율주행 시스템으로서 실도로에서 운행하면서 많은 데이터를 가지고 있습니다. 현재는 카메라와 레이더를 이용해 장애물을 잘 식별할 수 있도록 하고 있습니다.\n",
        "![테슬라](https://post-phinf.pstatic.net/MjAxOTA3MzBfMjkg/MDAxNTY0NDQ1MjcxNDAx.dyPgtVvYcS3k2yH8E1YWWpQ0IFGiLJAspHbh6v4XCgUg.pPIjKdPcj-iUneAGH4gVuR2vLfelwTOVKBEosLW3TUog.JPEG/23046_73939_4410.jpg?type=w1200)"
      ]
    },
    {
      "cell_type": "code",
      "metadata": {
        "id": "AnjiBRGx5UrI",
        "colab_type": "code",
        "colab": {}
      },
      "source": [
        ""
      ],
      "execution_count": 0,
      "outputs": []
    },
    {
      "cell_type": "markdown",
      "metadata": {
        "id": "Vvi8qnFL5cji",
        "colab_type": "text"
      },
      "source": [
        ""
      ]
    }
  ]
}